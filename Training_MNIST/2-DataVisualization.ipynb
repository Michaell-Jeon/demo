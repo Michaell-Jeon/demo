{
 "cells": [
  {
   "cell_type": "markdown",
   "id": "1dbf4bf1-b811-4951-8a0e-34bcb455656c",
   "metadata": {},
   "source": [
    "# Lab 2 Data visualization\n",
    "1. Read in dataset\n",
    "2. Visualize dataset"
   ]
  },
  {
   "cell_type": "code",
   "execution_count": null,
   "id": "2af06356-7089-4a8d-afc7-fcb6a7001484",
   "metadata": {},
   "outputs": [],
   "source": [
    "import tensorflow as tf\n",
    "import matplotlib.pyplot as plt\n",
    "import random as ran\n",
    "from datetime import datetime \n",
    "import os\n",
    "\n",
    "%store -r STUDENT\n",
    "\n",
    "mnist = tf.keras.datasets.mnist\n",
    "\n",
    "def display_digit(num):\n",
    "    label = train_labels[num]\n",
    "    image = train_images[num].reshape([28,28])\n",
    "    plt.title('Example: %d  Label: %d' % (num, label))\n",
    "    plt.imshow(image, cmap=plt.get_cmap('gray_r'))\n",
    "    plt.show()\n",
    "        \n",
    "def display_compare(num):\n",
    "    image = test_images[num]\n",
    "    label = test_labels[num]\n",
    "    plt.title('Example: %d  Label: %d' % (num, label))\n",
    "    plt.imshow(image.reshape([28,28]), cmap=plt.get_cmap('gray_r'))\n",
    "    plt.show()\n",
    "    image = image.reshape(1,28,28)\n",
    "    prediction =loaded_model.predict_classes(image)"
   ]
  },
  {
   "cell_type": "code",
   "execution_count": null,
   "id": "845cb3cb-a595-4c86-82ca-0f4834716725",
   "metadata": {},
   "outputs": [],
   "source": [
    "# Project repo path function - file system mount available to all app containers\n",
    "def ProjectRepo(path):\n",
    "    ProjectRepo = \"/bd-fs-mnt/project_repo/\"\n",
    "    return str(ProjectRepo + '/' + path)\n",
    "\n",
    "# Locations of mnist data   \n",
    "MNIST_LOC = ProjectRepo(\"/data/\" + STUDENT + \"_MNIST/mnist.npz\")\n",
    "\n",
    "(train_images, train_labels),(test_images, test_labels) = mnist.load_data(path=MNIST_LOC)\n",
    "train_images, test_images = train_images / 255.0, test_images / 255.0\n",
    "\n",
    "print (\"Location of MNIST Dataset: \", MNIST_LOC)\n",
    "print(\"Number of MNIST Training Images:\",train_images.shape[0])\n",
    "print(\"Number of MNIST Testing Images:\",test_images.shape[0])"
   ]
  },
  {
   "cell_type": "code",
   "execution_count": null,
   "id": "e4271ee9-6e28-4f8c-9be0-7bad5d46648c",
   "metadata": {},
   "outputs": [],
   "source": [
    "display_digit(4)"
   ]
  },
  {
   "cell_type": "code",
   "execution_count": null,
   "id": "92b4abd3-28be-4f8f-a33c-7cc71701ad6d",
   "metadata": {},
   "outputs": [],
   "source": [
    "display_digit(10)"
   ]
  },
  {
   "cell_type": "code",
   "execution_count": null,
   "id": "0f7a3f2d-7a4e-4885-a6c4-dcf556463ebe",
   "metadata": {},
   "outputs": [],
   "source": [
    "display_digit(200)"
   ]
  }
 ],
 "metadata": {
  "kernelspec": {
   "display_name": "Python 3",
   "language": "python",
   "name": "python3"
  },
  "language_info": {
   "codemirror_mode": {
    "name": "ipython",
    "version": 3
   },
   "file_extension": ".py",
   "mimetype": "text/x-python",
   "name": "python",
   "nbconvert_exporter": "python",
   "pygments_lexer": "ipython3",
   "version": "3.7.3"
  }
 },
 "nbformat": 4,
 "nbformat_minor": 5
}
