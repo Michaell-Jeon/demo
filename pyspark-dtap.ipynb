{
 "cells": [
  {
   "cell_type": "code",
   "execution_count": null,
   "metadata": {},
   "outputs": [],
   "source": [
    "#!conda install pyspark "
   ]
  },
  {
   "cell_type": "code",
   "execution_count": 1,
   "metadata": {},
   "outputs": [],
   "source": [
    "from pyspark import SparkConf, SparkContext\n",
    "\n",
    "# Specify the path of the jars files.\n",
    "conf = SparkConf().set(\"spark.jars\", \"/opt/bdfs/bluedata-dtap.jar\")\n",
    "sc = SparkContext( conf=conf)\n",
    "\n",
    "# Specify the Hadoop configurations.\n",
    "sc._jsc.hadoopConfiguration().set('fs.dtap.impl', 'com.bluedata.hadoop.bdfs.Bdfs')\n",
    "sc._jsc.hadoopConfiguration().set('fs.AbstractFileSystem.dtap.impl', 'com.bluedata.hadoop.bdfs.BdAbstractFS')\n"
   ]
  },
  {
   "cell_type": "code",
   "execution_count": 2,
   "metadata": {},
   "outputs": [
    {
     "data": {
      "text/plain": [
       "['word count from Wikipedia the free encyclopedia',\n",
       " 'the word count is the number of words in a document or passage of text Word counting may be needed when a text',\n",
       " 'is required to stay within certain numbers of words This may particularly be the case in academia legal',\n",
       " 'proceedings journalism and advertising Word count is commonly used by translators to determine the price for',\n",
       " 'the translation job Word counts may also be used to calculate measures of readability and to measure typing']"
      ]
     },
     "execution_count": 2,
     "metadata": {},
     "output_type": "execute_result"
    }
   ],
   "source": [
    "# Commands for reading DataTap file\n",
    "text = sc.textFile(\"dtap://TenantStorage/HPE.txt\")\n",
    "text.take(5)"
   ]
  },
  {
   "cell_type": "code",
   "execution_count": 3,
   "metadata": {},
   "outputs": [
    {
     "data": {
      "text/plain": [
       "['word count from Wikipedia the free encyclopedia',\n",
       " 'the word count is the number of words in a document or passage of text Word counting may be needed when a text',\n",
       " 'is required to stay within certain numbers of words This may particularly be the case in academia legal',\n",
       " 'proceedings journalism and advertising Word count is commonly used by translators to determine the price for',\n",
       " 'the translation job Word counts may also be used to calculate measures of readability and to measure typing',\n",
       " 'and reading speeds usually in words per minute When converting character counts to words a measure of five or',\n",
       " 'six characters to a word is generally used Contents Details and variations of definition Software In fiction',\n",
       " 'In non fiction See also References Sources External links Details and variations of definition',\n",
       " 'This section does not cite any references or sources Please help improve this section by adding citations to',\n",
       " 'reliable sources Unsourced material may be challenged and removed']"
      ]
     },
     "execution_count": 3,
     "metadata": {},
     "output_type": "execute_result"
    }
   ],
   "source": [
    "text = sc.textFile(\"dtap://TenantStorage/wordcount.txt\")\n",
    "text.take(10)"
   ]
  },
  {
   "cell_type": "code",
   "execution_count": null,
   "metadata": {},
   "outputs": [],
   "source": []
  }
 ],
 "metadata": {
  "kernelspec": {
   "display_name": "Python 3",
   "language": "python",
   "name": "python3"
  },
  "language_info": {
   "codemirror_mode": {
    "name": "ipython",
    "version": 3
   },
   "file_extension": ".py",
   "mimetype": "text/x-python",
   "name": "python",
   "nbconvert_exporter": "python",
   "pygments_lexer": "ipython3",
   "version": "3.8.5"
  }
 },
 "nbformat": 4,
 "nbformat_minor": 4
}
