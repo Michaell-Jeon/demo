{
 "cells": [
  {
   "cell_type": "code",
   "execution_count": 6,
   "metadata": {},
   "outputs": [
    {
     "name": "stdout",
     "output_type": "stream",
     "text": [
      "Model: \"functional_1\"\n",
      "_________________________________________________________________\n",
      "Layer (type)                 Output Shape              Param #   \n",
      "=================================================================\n",
      "Mnist_Image (InputLayer)     [(None, 28, 28)]          0         \n",
      "_________________________________________________________________\n",
      "flatten_1 (Flatten)          (None, 784)               0         \n",
      "_________________________________________________________________\n",
      "Dense_128 (Dense)            (None, 128)               100480    \n",
      "_________________________________________________________________\n",
      "Dropout (Dropout)            (None, 128)               0         \n",
      "_________________________________________________________________\n",
      "Dense_10 (Dense)             (None, 10)                1290      \n",
      "=================================================================\n",
      "Total params: 101,770\n",
      "Trainable params: 101,770\n",
      "Non-trainable params: 0\n",
      "_________________________________________________________________\n",
      "Epoch 1/5\n",
      "1875/1875 [==============================] - 14s 8ms/step - loss: 0.5701 - accuracy: 0.8078\n",
      "Epoch 2/5\n",
      "1875/1875 [==============================] - 14s 7ms/step - loss: 0.3805 - accuracy: 0.8582\n",
      "Epoch 3/5\n",
      "1875/1875 [==============================] - 14s 7ms/step - loss: 0.3465 - accuracy: 0.8679\n",
      "Epoch 4/5\n",
      "1875/1875 [==============================] - 14s 8ms/step - loss: 0.3297 - accuracy: 0.8718\n",
      "Epoch 5/5\n",
      "1875/1875 [==============================] - 14s 8ms/step - loss: 0.3162 - accuracy: 0.8753\n"
     ]
    },
    {
     "data": {
      "text/plain": [
       "<tensorflow.python.keras.callbacks.History at 0x7ff504dcad90>"
      ]
     },
     "execution_count": 6,
     "metadata": {},
     "output_type": "execute_result"
    }
   ],
   "source": [
    "# Importing TensorFlow\n",
    "import tensorflow as tf\n",
    "from keras.layers import Input, Dense, Dropout,Flatten\n",
    "from keras.models import Model, load_model\n",
    "\n",
    "# Loading the data\n",
    "mnist = tf.keras.datasets.mnist\n",
    "(x_train, y_train), (x_test, y_test) = mnist.load_data()\n",
    "# Data preprocessing (here, normalization)\n",
    "x_train, x_test = x_train / 255.0, x_test / 255.0\n",
    "# Building the model\n",
    "xi = Input(shape = (28,28), name=\"Mnist_Image\")\n",
    "x  = Flatten()(xi)\n",
    "x  = Dense(128, activation='relu', name=\"Dense_128\")(x)\n",
    "x  = Dropout(0.2, name=\"Dropout\")(x)\n",
    "y  = Dense(10,  activation='relu', name=\"Dense_10\")(x)\n",
    "model = Model(inputs=xi, outputs = y)\n",
    "model.summary()\n",
    "# Loss function declaration\n",
    "loss_fn = tf.keras.losses.SparseCategoricalCrossentropy(from_logits=True)\n",
    "# Model compilation\n",
    "model.compile(optimizer='adam', loss=loss_fn,metrics=['accuracy'])\n",
    "# Training\n",
    "model.fit(x_train, y_train, epochs=5)"
   ]
  },
  {
   "cell_type": "code",
   "execution_count": 7,
   "metadata": {},
   "outputs": [
    {
     "data": {
      "text/plain": [
       "<tf.Tensor: shape=(2, 10), dtype=float32, numpy=\n",
       "array([[ 0.       ,  0.       ,  0.       ,  0.       ,  0.       ,\n",
       "         0.       ,  0.       ,  0.       ,  0.       ,  0.       ],\n",
       "       [ 0.       ,  7.1043653, 17.218527 ,  9.22346  ,  0.       ,\n",
       "         5.375275 ,  3.6300116,  0.       ,  4.735799 ,  0.       ]],\n",
       "      dtype=float32)>"
      ]
     },
     "execution_count": 7,
     "metadata": {},
     "output_type": "execute_result"
    }
   ],
   "source": [
    "model(x_test[:2])"
   ]
  },
  {
   "cell_type": "code",
   "execution_count": 9,
   "metadata": {},
   "outputs": [
    {
     "name": "stdout",
     "output_type": "stream",
     "text": [
      "INFO:tensorflow:Assets written to: /bd-fs-mnt/project_repo/models/DL/demo-mnist/1/assets\n"
     ]
    }
   ],
   "source": [
    "model_path = \"/bd-fs-mnt/project_repo/models/DL/\"\n",
    "model.save( model_path + \"demo-mnist/1/\" )"
   ]
  },
  {
   "cell_type": "code",
   "execution_count": null,
   "metadata": {},
   "outputs": [],
   "source": []
  }
 ],
 "metadata": {
  "kernelspec": {
   "display_name": "Python 3",
   "language": "python",
   "name": "python3"
  },
  "language_info": {
   "codemirror_mode": {
    "name": "ipython",
    "version": 3
   },
   "file_extension": ".py",
   "mimetype": "text/x-python",
   "name": "python",
   "nbconvert_exporter": "python",
   "pygments_lexer": "ipython3",
   "version": "3.8.5"
  }
 },
 "nbformat": 4,
 "nbformat_minor": 4
}
