{
 "cells": [
  {
   "cell_type": "markdown",
   "id": "2b54e4e0-3998-4dfe-9264-f9e385451d34",
   "metadata": {},
   "source": [
    "# Lab 4 Serving\n",
    "- Find the best model \n",
    "- Create session to Kubeflow Pipelines (we will be utilizing the open source Seldon that comes with pre-packaged with Kubeflow)\n",
    "- Create a pipeline that only creates a Seldon pod for serving our model"
   ]
  },
  {
   "cell_type": "markdown",
   "id": "f40252cf-93f3-4793-9920-213278e2e8f6",
   "metadata": {},
   "source": [
    "# Create KFP Client Object\n",
    "### Please update endpoint, api_username and api_password as per your enviornment.\n",
    "* endpoint is kubeflow url.\n",
    "* api_username is AD username.\n",
    "* api_password is AD user password."
   ]
  },
  {
   "cell_type": "code",
   "execution_count": null,
   "id": "03b3fb57-ca65-4971-8218-d68c815f6328",
   "metadata": {},
   "outputs": [],
   "source": [
    "%kubeRefresh"
   ]
  },
  {
   "cell_type": "code",
   "execution_count": null,
   "id": "79c3d5b7-1c51-4245-8649-cc84071b9a7f",
   "metadata": {},
   "outputs": [],
   "source": [
    "%loadMlflow"
   ]
  },
  {
   "cell_type": "code",
   "execution_count": null,
   "id": "51d2514e-2cc4-4669-9739-02077561b4d2",
   "metadata": {},
   "outputs": [],
   "source": [
    "%Setexp --name <YOUR INITITALS HERE>-bike-sharing-use-case"
   ]
  },
  {
   "cell_type": "code",
   "execution_count": null,
   "id": "8ec654e3-751b-46da-884c-b3162ab6a17b",
   "metadata": {},
   "outputs": [],
   "source": [
    "import mlflow\n",
    "\n",
    "best_run_df = mlflow.search_runs(order_by=['metrics.RMSE_CV ASC'], max_results=1)\n",
    "if len(best_run_df.index) == 0:\n",
    "    raise Exception(f\"Found no runs for experiment '{experiment_name}'\")\n",
    "\n",
    "best_run = mlflow.get_run(best_run_df.at[0, 'run_id'])\n",
    "best_model_uri = f\"{best_run.info.artifact_uri}/model\"\n",
    "best_model = mlflow.sklearn.load_model(best_model_uri)"
   ]
  },
  {
   "cell_type": "code",
   "execution_count": null,
   "id": "db9ad927-edff-4fc6-ace2-edbe2c441a11",
   "metadata": {},
   "outputs": [],
   "source": [
    "# print best run info\n",
    "print(\"Best run info:\")\n",
    "print(f\"Run id: {best_run.info.run_id}\")\n",
    "print(f\"Run parameters: {best_run.data.params}\")\n",
    "print(\"Run score: RMSE_CV = {:.4f}\\n\\n\".format(best_run.data.metrics['RMSE_CV']))\n",
    "print(f\"Run model URI: {best_model_uri}\")"
   ]
  },
  {
   "attachments": {
    "6026fb36-90de-439b-8321-b69ec2531f72.png": {
     "image/png": "[encoded data removed]"
    }
   },
   "cell_type": "markdown",
   "id": "825c67de-c5e8-4a46-9aef-6644565b7b60",
   "metadata": {},
   "source": [
    "## Kubeflow endpoint \n",
    "- Grab your kubeflow endpoint and update the endpoint variable <br>\n",
    "- Update the username and password variable with your own <br>\n",
    "![image.png](attachment:6026fb36-90de-439b-8321-b69ec2531f72.png)"
   ]
  },
  {
   "cell_type": "code",
   "execution_count": null,
   "id": "6057ff1a-a59a-405e-9a40-5c623f6e00dd",
   "metadata": {},
   "outputs": [],
   "source": [
    "import kfp\n",
    "import json\n",
    "import kfp.dsl as dsl\n",
    "\n",
    "import requests, kfp\n",
    "\n",
    "\n",
    "endpoint = \"<Your kubeflow endpoint>\" # Kubeflow Url\n",
    "api_username  = \"\" # Username\n",
    "api_password = \"\" # Password\n",
    "\n",
    "\n",
    "def get_user_auth_session_cookie(url, username, password):\n",
    "    url = url.replace('/pipeline', '')\n",
    "    get_response = requests.get(url)\n",
    "    if 'auth' in get_response.url:\n",
    "        credentials = {'login': username, 'password': password}\n",
    "        # Authenticate user\n",
    "        session = requests.Session()\n",
    "        session.post(get_response.url, data=credentials)\n",
    "        cookie_auth_key = 'authservice_session'\n",
    "        cookie_auth_value = session.cookies.get(cookie_auth_key)\n",
    "        if cookie_auth_value:\n",
    "            return cookie_auth_key + '=' + cookie_auth_value\n",
    "\n",
    "session_cookie = get_user_auth_session_cookie(endpoint,api_username,api_password)\n",
    "client = kfp.Client(host=endpoint,cookies=session_cookie)\n",
    "\n",
    "\n",
    "# #For as ssl enabled system, set both kubeflow url with '/pipeline' at the end and location of certificate.\n",
    "# url = \"<Your kubeflow endpoint>\"\n",
    "# cert = \"cert.pem\"\n",
    "\n",
    "# from ezmeral_kf_utils import KfSession\n",
    "# K = KfSession(url, cert)\n",
    "# client=K.kf_client()"
   ]
  },
  {
   "cell_type": "code",
   "execution_count": null,
   "id": "c9484dc8-6921-4309-8e54-ff9c974e3351",
   "metadata": {},
   "outputs": [],
   "source": [
    "# List the current kubeflow pipelines\n",
    "print(client.list_pipelines())"
   ]
  },
  {
   "cell_type": "markdown",
   "id": "5d9365ee-6de7-41c4-a21a-cf581a87d62b",
   "metadata": {},
   "source": [
    "## K8s Resource JSON For Seldon Deployment\n",
    "### Please replace the namespace name as per your enviornment\n",
    "* <span style=\"color:red\">best_model_uri</span> is the optimzed model from 9 runs."
   ]
  },
  {
   "cell_type": "code",
   "execution_count": null,
   "id": "cbe5d6b0-3dac-4c82-a3ee-092843ad4e3e",
   "metadata": {},
   "outputs": [],
   "source": [
    "#Namespace Name \n",
    "NAMESPACE=\"\"\n",
    "\n",
    "DEPLOYMENT = {\n",
    "  \"apiVersion\": \"machinelearning.seldon.io/v1alpha3\",\n",
    "  \"kind\": \"SeldonDeployment\",\n",
    "  \"metadata\": {\n",
    "    \"name\": \"bikesharing\",\n",
    "    \"namespace\": NAMESPACE\n",
    "  },\n",
    "  \"spec\": {\n",
    "    \"name\": \"bikesharing\",\n",
    "    \"predictors\": [\n",
    "      {\n",
    "        \"graph\": {\n",
    "          \"children\": [],\n",
    "          \"implementation\": \"MLFLOW_SERVER\",\n",
    "          \"modelUri\": best_model_uri,\n",
    "          \"name\": \"bikesharing\",\n",
    "          \"envSecretRefName\": \"mlflow-dp\",\n",
    "          \"parameters\": [\n",
    "            {\n",
    "              \"name\": \"xtype\",\n",
    "              \"type\": \"STRING\",\n",
    "              \"value\": \"DataFrame\"\n",
    "            }\n",
    "          ]\n",
    "        },\n",
    "        \"name\": \"bikesharing\",\n",
    "        \"replicas\": 1,\n",
    "        \"svcOrchSpec\": {\n",
    "          \"resources\": {\n",
    "            \"limits\": {\n",
    "              \"cpu\": \"1\"\n",
    "            },\n",
    "            \"requests\": {\n",
    "              \"cpu\": \"0.5\"\n",
    "            }\n",
    "          }\n",
    "        },\n",
    "        \"componentSpecs\": [\n",
    "          {\n",
    "            \"spec\": {\n",
    "              \"containers\": [\n",
    "                {\n",
    "                  \"resources\": {\n",
    "                    \"limits\": {\n",
    "                      \"cpu\": \"1\"\n",
    "                    },\n",
    "                    \"requests\": {\n",
    "                      \"cpu\": \"0.5\"\n",
    "                    }\n",
    "                  },\n",
    "                \"securityContext\": {\n",
    "                    \"runAsUser\": 0\n",
    "                },\n",
    "#                   \"env\": [\n",
    "#                     {\n",
    "#                       \"name\": \"https_proxy\",\n",
    "#                       \"value\": \"http://web-proxy.corp.hpecorp.net:8080\"\n",
    "#                     },\n",
    "#                     {\n",
    "#                       \"name\": \"http_proxy\",\n",
    "#                       \"value\": \"http://web-proxy.corp.hpecorp.net:8080\"\n",
    "#                     }\n",
    "#                   ],\n",
    "                  \"name\": \"bikesharing\",\n",
    "                  \"livenessProbe\": {\n",
    "                    \"initialDelaySeconds\": 80,\n",
    "                    \"failureThreshold\": 200,\n",
    "                    \"periodSeconds\": 60,\n",
    "                    \"successThreshold\": 1,\n",
    "                    \"httpGet\": {\n",
    "                      \"path\": \"/health/ping\",\n",
    "                      \"port\": \"http\",\n",
    "                      \"scheme\": \"HTTP\"\n",
    "                    }\n",
    "                  },\n",
    "                  \"readinessProbe\": {\n",
    "                    \"initialDelaySeconds\": 80,\n",
    "                    \"failureThreshold\": 200,\n",
    "                    \"periodSeconds\": 60,\n",
    "                    \"successThreshold\": 1,\n",
    "                    \"httpGet\": {\n",
    "                      \"path\": \"/health/ping\",\n",
    "                      \"port\": \"http\",\n",
    "                      \"scheme\": \"HTTP\"\n",
    "                    }\n",
    "                  }\n",
    "                }\n",
    "              ]\n",
    "            }\n",
    "          }\n",
    "        ]\n",
    "      }\n",
    "    ]\n",
    "  }\n",
    "}\n",
    "\n",
    "\n",
    "DEPLOYMENT = json.dumps(DEPLOYMENT)"
   ]
  },
  {
   "cell_type": "markdown",
   "id": "4537e46e-a127-4d95-b2b1-205834fdd4bc",
   "metadata": {},
   "source": [
    "## Submiting KFP Pipeline Which Will Deploy Trained Model Through Seldon Deployment"
   ]
  },
  {
   "cell_type": "code",
   "execution_count": null,
   "id": "b291980c-b9df-495d-9e32-ed2b888c2f3d",
   "metadata": {},
   "outputs": [],
   "source": [
    "@dsl.pipeline(\n",
    "    name=\"Deploy Model for \" + api_username,\n",
    "    description=\"Deploy Trained Model Using Seldon\"\n",
    ")\n",
    "def deploy_model():\n",
    "    \n",
    "    # Deploy mlflow model.\n",
    "    op_seldondeployment = dsl.ResourceOp(\n",
    "        name='Seldon deployment ' + api_username,\n",
    "        k8s_resource=json.loads(DEPLOYMENT),\n",
    "        action='create'\n",
    "    )\n",
    "    \n",
    "    \n",
    "client.create_run_from_pipeline_func(\n",
    "    deploy_model,\n",
    "    experiment_name=\"Bike Sharing Deployment for\"  + api_username,\n",
    "    arguments={},\n",
    ")"
   ]
  },
  {
   "cell_type": "markdown",
   "id": "19b9a771-a1e3-4a30-ad95-0051a633096b",
   "metadata": {},
   "source": [
    "## Prediction\n",
    "### Deployment of seldon will take few minutes to comes to ready state, so wait for few minutes before actually executing the below cell."
   ]
  },
  {
   "cell_type": "code",
   "execution_count": null,
   "id": "6eb35803-07c8-4914-8d69-e5ee25887b42",
   "metadata": {},
   "outputs": [],
   "source": [
    "# Wait until both bikesharing pods are in the \"running\" state\n",
    "!kubectl get pods"
   ]
  },
  {
   "cell_type": "code",
   "execution_count": null,
   "id": "2a23e91b-a06b-4fd0-ae87-ff21e798f01b",
   "metadata": {},
   "outputs": [],
   "source": [
    "import requests, json\n",
    "\n",
    "KUBEFLOW_URL = endpoint.replace('/pipeline', '')\n",
    "\n",
    "SELDON_DEPLOYMENT_NAME = \"bikesharing\"\n",
    "\n",
    "headers = {\n",
    "    'Accept': 'application/json',\n",
    "    'Content-Type': 'application/json'\n",
    "}\n",
    "\n",
    "cookies = {\n",
    "    'authservice_session': session_cookie.replace('authservice_session=', '')\n",
    "}\n",
    "\n",
    "input_data = [[1, 2, 1, 0, 0, 6, 0, 1, 0.24, 0.2879, 0.81, 0.0000], [1, 5, 1, 0, 0, 6, 1, 1, 0.24, 0.2879, 0.81, 0.0000]]\n",
    "names = ['season', 'year', 'month', 'hour_of_day', 'is_holiday', 'weekday', 'is_workingday', \n",
    "         'weather_situation', 'temperature', 'feels_like_temperature', 'humidity', 'windspeed']\n",
    "                                  \n",
    "data = {\"data\":{\"names\": names, \"ndarray\": input_data}}\n",
    "json_request= json.dumps(data)\n",
    "\n",
    "URL = \"{}/seldon/{}/{}/api/v1.0/predictions\".format(KUBEFLOW_URL,NAMESPACE,SELDON_DEPLOYMENT_NAME)\n",
    "\n",
    "response = requests.post(URL, headers=headers, cookies=cookies, data=json_request)\n",
    "output = response.json()['data']['ndarray']\n",
    "print(\"Rented Bikes Per Hours:\\n\")\n",
    "for item in range(len(input_data)):\n",
    "    print(\"Input Data: {} \\n\\nBikes Per Hour: {}\\n\".format({names[i]: input_data[item][i] for i in range(len(names))},output[item]))"
   ]
  },
  {
   "cell_type": "code",
   "execution_count": null,
   "id": "c6ae4c9b-b6f4-4512-9316-b1f7e2cd5e75",
   "metadata": {},
   "outputs": [],
   "source": []
  }
 ],
 "metadata": {
  "kernelspec": {
   "display_name": "Python 3",
   "language": "python",
   "name": "python3"
  },
  "language_info": {
   "codemirror_mode": {
    "name": "ipython",
    "version": 3
   },
   "file_extension": ".py",
   "mimetype": "text/x-python",
   "name": "python",
   "nbconvert_exporter": "python",
   "pygments_lexer": "ipython3",
   "version": "3.7.3"
  }
 },
 "nbformat": 4,
 "nbformat_minor": 5
}
