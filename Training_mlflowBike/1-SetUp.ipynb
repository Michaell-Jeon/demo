{
 "cells": [
  {
   "cell_type": "markdown",
   "id": "4dba7a4c-6170-4200-acc4-ed9ff69b572f",
   "metadata": {},
   "source": [
    "# Lab 1 Setup and Test \n",
    "In this lab we will:\n",
    "1. introduce and test the line magic functions that are apart of Ezmeral MLOps\n",
    "2. populate our project repository with the necessary files \n",
    "\n",
    "<b>Line magics</b>, which are denoted by a single % prefix, operate on a single line of input.\n",
    "\n",
    "<b>Cell magics</b>, which are denoted by a double %% prefix, operate on multiple lines of input.\n",
    "\n",
    "Additional documentation: https://docs.containerplatform.hpe.com/53/reference/kubernetes/using-kubernetes/ai-ml-functionality/notebooks/Kubernetes_Notebook_Magic_Functions.html?hl=kuberefresh"
   ]
  },
  {
   "cell_type": "markdown",
   "id": "c7eed0bc-b6e4-4892-9f59-a65fed948ea9",
   "metadata": {},
   "source": [
    "# Magics"
   ]
  },
  {
   "cell_type": "markdown",
   "id": "f4389790-642e-45fa-ae05-9a296836d561",
   "metadata": {},
   "source": [
    "#### **Get the list of connected training environments**\n",
    "\n",
    "<b>%attachments</b> is a line magic command that output a table with the name(s) of the training cluster(s) available for us to use. Sometimes, Operations team may have created multiple training clusters for different projects depending on the needs of the model or size of data, e.g. some with GPU nodes, while others with CPUs only."
   ]
  },
  {
   "cell_type": "code",
   "execution_count": null,
   "id": "7908bff9-d7bf-44c7-9a66-04bac154fae8",
   "metadata": {},
   "outputs": [],
   "source": [
    "%attachments"
   ]
  },
  {
   "cell_type": "markdown",
   "id": "101cfd83-1853-44b5-9840-65527ff1be81",
   "metadata": {},
   "source": [
    "#### **Submit a notebook code cell to a remote training cluster**\n",
    "\n",
    "To utilize the training cluster, you will need grab the name of the training cluster you want to use and feed it into another custom cell magic command. \n",
    "\n",
    "With the **%%training** magic command specified at the beginning of the code cell, the Jupyter Notebook will \n",
    "submit the entire content of the cell to the training cluster named _training_. If you comment this magic command, the code will run on your local Jupyter Notebook.\n",
    "\n",
    "The example cell below will execute a print statement on the training cluster."
   ]
  },
  {
   "cell_type": "code",
   "execution_count": null,
   "id": "28539e69-b38f-4653-b81c-ba337d153241",
   "metadata": {},
   "outputs": [],
   "source": [
    "%%<your training cluster name>\n",
    "print(\"Hello world\")"
   ]
  },
  {
   "cell_type": "markdown",
   "id": "f879f50d-d874-47b5-9e5e-e9165253027e",
   "metadata": {},
   "source": [
    "#### **Retrieve the result of the job**\n",
    "\n",
    "The training cluster will send back a unique log url for the job submitted.   \n",
    "You can use the _History URL_ with the _\"%log --url\"_ custom **line magic** command to track the status of the job in real time. \n",
    "\n",
    "Copy the History URL from the output of the previous cell and paste it into the cell below where it says _\"your_http_url_here\"_, and run the cell code.\n",
    "\n",
    "A status of \"**Finished**\" means the execution of the job submitted to the training cluster has completed."
   ]
  },
  {
   "cell_type": "code",
   "execution_count": null,
   "id": "a355671a-69c3-4bfc-a6ba-f845fe38c3d2",
   "metadata": {},
   "outputs": [],
   "source": [
    "# Fill in the history url from the output of the previous cell\n",
    "%logs --url <your history url>"
   ]
  },
  {
   "cell_type": "markdown",
   "id": "1523567c-473b-42c1-a345-0914ff5ae0c7",
   "metadata": {},
   "source": [
    "#### **Set up your user's latest kubeconfig**\n",
    "- Enter your AD/LDAP user's password when prompted"
   ]
  },
  {
   "cell_type": "code",
   "execution_count": null,
   "id": "24679d77-ec1f-4942-988d-d88a3a1b1717",
   "metadata": {},
   "outputs": [],
   "source": [
    "%kubeRefresh"
   ]
  },
  {
   "cell_type": "markdown",
   "id": "32112e09-1c19-4082-b499-8fd0cce93aa8",
   "metadata": {},
   "source": [
    "#### **This magic sets the environmental variables required for mlflow in backend.**"
   ]
  },
  {
   "cell_type": "code",
   "execution_count": null,
   "id": "28f7c554-f3f7-44d5-8cb7-2ac80f908d56",
   "metadata": {},
   "outputs": [],
   "source": [
    "%loadMlflow"
   ]
  },
  {
   "cell_type": "markdown",
   "id": "f8a490fb-4328-4292-b18a-ea3eccd922bd",
   "metadata": {},
   "source": [
    "#### **Magic function '%Setexp' replaces the two lines below.**\n",
    "mlflow.set_experiment('demoexp')\n",
    "\n",
    "mlflow.set_tag('mlflow.user',<AD/LDAP User>)\n",
    "\n",
    "Please use the same experiment name in each notebook\n",
    "\n",
    "<b>Don't forget to add your initials! </b>"
   ]
  },
  {
   "cell_type": "code",
   "execution_count": null,
   "id": "19b5042f-cc7e-4c4a-80bf-d6ad0274012c",
   "metadata": {},
   "outputs": [],
   "source": [
    "%Setexp --name <YOUR INITIALS>-bike-sharing-use-case"
   ]
  },
  {
   "cell_type": "markdown",
   "id": "802ccf0b-3520-44d8-a3d5-1552eb469c2e",
   "metadata": {},
   "source": [
    "# Setup your working directory\n",
    "\n",
    "The Python code here is used to create the working directory in the central project repository for your user. The working directory is used to store the key data components needed in the ML pipeline, such as the input dataset, trained ML model(s) and scoring script(s). \n",
    "\n",
    "Don't forget your <b> STUDENT </b> variable"
   ]
  },
  {
   "cell_type": "code",
   "execution_count": null,
   "id": "9372a2f0-e69d-420a-9060-899a728bec2d",
   "metadata": {},
   "outputs": [],
   "source": [
    "import os\n",
    "import shutil\n",
    "\n",
    "# Fill in your initials here\n",
    "STUDENT = \"\"\n",
    "%store STUDENT\n",
    "\n",
    "usecaseDirectory = STUDENT + \"_BikeShare\"\n",
    "RepoCode = \"code\" + '/' + usecaseDirectory\n",
    "RepoData = \"data\" + '/' + usecaseDirectory\n",
    "\n",
    "# Project repo path function - file system mount available to all app containers\n",
    "def ProjectRepo(path):\n",
    "    ProjectRepo = \"/bd-fs-mnt/project_repo\"\n",
    "    return str(ProjectRepo + '/' + path)\n",
    "\n",
    "print(\"Creating your directories..\")\n",
    "\n",
    "if (not os.path.exists(ProjectRepo(RepoCode))):\n",
    "    print (\"Creating the Code directory \" + RepoCode)\n",
    "    try:\n",
    "        os.makedirs(ProjectRepo(RepoCode))\n",
    "    except OSError:\n",
    "        print (\"Creation of the code directory %s failed\" % RepoCode)\n",
    "    else:\n",
    "        print (\"Successfully created the code directory %s\" % RepoCode)\n",
    "        \n",
    "if (not os.path.exists(ProjectRepo(RepoData))):\n",
    "    print (\"Creating the Data directory \" + RepoData)\n",
    "    try:\n",
    "        os.makedirs(ProjectRepo(RepoData))\n",
    "    except OSError:\n",
    "        print (\"Creation of the code directory %s failed\" % RepoData)\n",
    "    else:\n",
    "        print (\"Successfully created the code directory %s\" % RepoData)\n",
    "        \n",
    "print(\"Loading files into project repo\")\n",
    "shutil.copy(\"Data/day.csv\", ProjectRepo(RepoData))\n",
    "shutil.copy(\"Data/hour.csv\", ProjectRepo(RepoData))\n",
    "\n",
    "if os.path.exists(\"model_artifacts\"):\n",
    "    os.system(\"rm -rf model_artifacts\")\n",
    "os.mkdir(\"model_artifacts\")"
   ]
  },
  {
   "cell_type": "markdown",
   "id": "1cd329f9-b09c-4521-8572-3c73ffb31a6f",
   "metadata": {},
   "source": [
    "## View ProjectRepo \n",
    "- Notice the files and that the permissions here match that of the AD/LDAP user  "
   ]
  },
  {
   "cell_type": "code",
   "execution_count": null,
   "id": "937234cb-fc80-404b-8147-b8e194f18305",
   "metadata": {},
   "outputs": [],
   "source": [
    "!ls -ltr /bd-fs-mnt/project_repo/data"
   ]
  },
  {
   "cell_type": "markdown",
   "id": "83cacaae-d39b-45f3-9bd7-ca9cd3a83e0a",
   "metadata": {},
   "source": [
    "### Now return back to the ECP UI and browse the project repository to view your files! "
   ]
  },
  {
   "cell_type": "markdown",
   "id": "f8e32a01-9cd5-404f-a6d3-24eb6a07352a",
   "metadata": {},
   "source": [
    "# Continue onto Lab 2 for some data engineering work!"
   ]
  }
 ],
 "metadata": {
  "kernelspec": {
   "display_name": "Python 3",
   "language": "python",
   "name": "python3"
  },
  "language_info": {
   "codemirror_mode": {
    "name": "ipython",
    "version": 3
   },
   "file_extension": ".py",
   "mimetype": "text/x-python",
   "name": "python",
   "nbconvert_exporter": "python",
   "pygments_lexer": "ipython3",
   "version": "3.7.3"
  }
 },
 "nbformat": 4,
 "nbformat_minor": 5
}
