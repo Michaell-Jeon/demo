{
 "cells": [
  {
   "cell_type": "markdown",
   "id": "1d30ff65-703b-4f66-b697-3281c8b00b99",
   "metadata": {},
   "source": [
    "# Lab 2 Data Prep\n",
    "1. Read in dataset\n",
    "2. Clean up data\n",
    "3. Visualize dataset"
   ]
  },
  {
   "cell_type": "markdown",
   "id": "033e6a89-9d2c-49bc-b529-172289243b7a",
   "metadata": {},
   "source": [
    "## 1. Read in dataset"
   ]
  },
  {
   "cell_type": "code",
   "execution_count": null,
   "id": "305d4e6d-c013-41f4-b49b-fd19df2b57d2",
   "metadata": {},
   "outputs": [],
   "source": [
    "import pandas as pd\n",
    "import numpy as np\n",
    "import matplotlib.pyplot as plt\n",
    "import seaborn as sns\n",
    "\n",
    "# from pydotplus import graph_from_dot_data\n",
    "import graphviz\n",
    "from IPython.display import Image\n",
    "\n",
    "plt.style.use(\"fivethirtyeight\")\n",
    "pd.plotting.register_matplotlib_converters()\n",
    "\n",
    "import warnings\n",
    "warnings.filterwarnings('ignore')\n",
    "\n",
    "%store -r STUDENT"
   ]
  },
  {
   "cell_type": "code",
   "execution_count": null,
   "id": "7ec96884-7181-46df-9393-cc4c68a92d35",
   "metadata": {},
   "outputs": [],
   "source": [
    "# Project repo path function - file system mount available to all app containers\n",
    "def ProjectRepo(path):\n",
    "    ProjectRepo = \"/bd-fs-mnt/project_repo\"\n",
    "    return str(ProjectRepo + '/' + path)"
   ]
  },
  {
   "cell_type": "code",
   "execution_count": null,
   "id": "c5322c3e-79a9-49c3-b662-e5c7e42e4001",
   "metadata": {},
   "outputs": [],
   "source": [
    "# load input data into pandas dataframe\n",
    "bike_sharing = pd.read_csv(ProjectRepo(\"/data/\" + STUDENT + \"_BikeShare/hour.csv\"))\n",
    "bike_sharing "
   ]
  },
  {
   "cell_type": "markdown",
   "id": "c486523e-28e1-499b-bd27-783187e12e70",
   "metadata": {},
   "source": [
    "## Take a quick glance at our dataset. These are the columns (features) that we will be working with. Our target variable is the \"cnt\" column. \n",
    "## For example, the first row on Jan 1st, 2011 along with the weather columns had a bike rental count of 16. "
   ]
  },
  {
   "cell_type": "markdown",
   "id": "b9400840-e77d-4626-87fa-7fb8d3b553aa",
   "metadata": {},
   "source": [
    "## 2. Clean dataset"
   ]
  },
  {
   "cell_type": "code",
   "execution_count": null,
   "id": "b5e2c5d1-37e1-4c21-b5cb-f4224f32208e",
   "metadata": {},
   "outputs": [],
   "source": [
    "# remove unused columns\n",
    "bike_sharing.drop(columns=[\"instant\", \"dteday\", \"registered\", \"casual\"], inplace=True)\n",
    "\n",
    "# use better names\n",
    "bike_sharing.rename(\n",
    "    columns={\n",
    "        \"yr\": \"year\",\n",
    "        \"mnth\": \"month\",\n",
    "        \"hr\": \"hour_of_day\",\n",
    "        \"holiday\": \"is_holiday\",\n",
    "        \"workingday\": \"is_workingday\",\n",
    "        \"weathersit\": \"weather_situation\",\n",
    "        \"temp\": \"temperature\",\n",
    "        \"atemp\": \"feels_like_temperature\",\n",
    "        \"hum\": \"humidity\",\n",
    "        \"cnt\": \"rented_bikes\",\n",
    "    },\n",
    "    inplace=True,\n",
    ")\n",
    "\n",
    "cols = bike_sharing.select_dtypes(exclude=['float64']).columns\n",
    "\n",
    "for i in ['season', 'year', 'month', 'hour_of_day', 'is_holiday', 'weekday',\n",
    "       'is_workingday', 'weather_situation', 'rented_bikes']:\n",
    "    bike_sharing[i] = bike_sharing[i].astype('float64')"
   ]
  },
  {
   "cell_type": "markdown",
   "id": "7caa5316-56c0-40f8-95cf-2591f1131079",
   "metadata": {},
   "source": [
    "## 3. Visualize dataset\n",
    "- We're going to sum up all the rented bikes and group by the hour of day. You will see that the 2 peaks occur around 8:00 and 17:00\n",
    "- This makes sense as people start renting at the beginning of the day and maybe even at the end of the day for a future trip of some sort. "
   ]
  },
  {
   "cell_type": "code",
   "execution_count": null,
   "id": "47b1a42a-64f6-45dc-9e84-c9abc2c12320",
   "metadata": {},
   "outputs": [],
   "source": [
    "hour_of_day_agg = bike_sharing.groupby([\"hour_of_day\"])[\"rented_bikes\"].sum()\n",
    "\n",
    "hour_of_day_agg.plot(\n",
    "    kind=\"line\", \n",
    "    title=\"Total rented bikes by hour of day\",\n",
    "    xticks=hour_of_day_agg.index,\n",
    "    figsize=(15, 10),\n",
    ")"
   ]
  },
  {
   "cell_type": "code",
   "execution_count": null,
   "id": "071432f0-397e-4fe6-880a-66f51f6317d1",
   "metadata": {},
   "outputs": [],
   "source": [
    "# Save cleaned data\n",
    "X = bike_sharing.drop(\"rented_bikes\", axis=1)\n",
    "y = bike_sharing.rented_bikes\n",
    "\n",
    "X.to_csv(ProjectRepo(\"data/\" + STUDENT + \"_BikeShare/X_clean.csv\"))\n",
    "y.to_csv(ProjectRepo(\"data/\" + STUDENT + \"_BikeShare/y_clean.csv\"))"
   ]
  },
  {
   "cell_type": "markdown",
   "id": "4ca1c013-bf85-43f8-9f55-01f49878fd18",
   "metadata": {},
   "source": [
    "# Now that we've imported our dataset and cleaned it up, we can start modeling! Continue to Lab 3"
   ]
  }
 ],
 "metadata": {
  "kernelspec": {
   "display_name": "Python 3",
   "language": "python",
   "name": "python3"
  },
  "language_info": {
   "codemirror_mode": {
    "name": "ipython",
    "version": 3
   },
   "file_extension": ".py",
   "mimetype": "text/x-python",
   "name": "python",
   "nbconvert_exporter": "python",
   "pygments_lexer": "ipython3",
   "version": "3.7.3"
  }
 },
 "nbformat": 4,
 "nbformat_minor": 5
}
